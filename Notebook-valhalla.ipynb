{
 "cells": [
  {
   "cell_type": "code",
   "metadata": {
    "collapsed": true,
    "ExecuteTime": {
     "end_time": "2025-10-04T22:41:31.307642Z",
     "start_time": "2025-10-04T22:41:30.955251Z"
    }
   },
   "source": [
    "// Kotlin (JDK 21) - Notebook cell\n",
    "\n",
    "@file:DependsOn(\"com.squareup.okhttp3:okhttp:4.12.0\")\n",
    "@file:DependsOn(\"com.squareup.okio:okio:3.6.0\")\n",
    "\n",
    "import okhttp3.MediaType.Companion.toMediaType\n",
    "import okhttp3.OkHttpClient\n",
    "import okhttp3.Request\n",
    "import okhttp3.RequestBody.Companion.toRequestBody\n",
    "import java.time.Duration\n",
    "\n",
    "val client = OkHttpClient.Builder()\n",
    "    .callTimeout(Duration.ofSeconds(60))\n",
    "    .connectTimeout(Duration.ofSeconds(20))\n",
    "    .readTimeout(Duration.ofSeconds(60))\n",
    "    .build()\n",
    "\n",
    "// Example body: simple pedestrian route (demo host may not have transit schedules)\n",
    "// If you need multimodal, change costing to \"multimodal\" and add date_time.\n",
    "// Start/End are approximate coords for Øvre Movei 23 (Nesoddtangen) -> Aker Brygge (Oslo)\n",
    "val jsonBody = \"\"\"\n",
    "{\n",
    "  \"locations\": [\n",
    "    { \"lat\": 59.8709, \"lon\": 10.6637, \"name\": \"Øvre Movei 23, 1450 Nesoddtangen\" },\n",
    "    { \"lat\": 59.9106, \"lon\": 10.7276, \"name\": \"Aker Brygge, Oslo\" }\n",
    "  ],\n",
    "  \"costing\": \"pedestrian\",\n",
    "  \"units\": \"kilometers\",\n",
    "  \"alternates\": 0,\n",
    "  \"directions_options\": { \"language\": \"en-US\" }\n",
    "}\n",
    "\"\"\".trimIndent()\n",
    "\n",
    "val request = Request.Builder()\n",
    "    .url(\"https://valhalla.openstreetmap.de/route\")\n",
    "    .addHeader(\"Content-Type\", \"application/json\")\n",
    "    .addHeader(\"Accept\", \"application/json\")\n",
    "    // A UA can help on some demo hosts\n",
    "    .addHeader(\"User-Agent\", \"KotlinNotebook-RouteTest/1.0\")\n",
    "    .post(jsonBody.toRequestBody(\"application/json\".toMediaType()))\n",
    "    .build()\n",
    "\n",
    "client.newCall(request).execute().use { resp ->\n",
    "    println(\"HTTP: ${'$'}{resp.code} ${'$'}{resp.message}\")\n",
    "    println(\"Headers:\\n${'$'}{resp.headers}\")\n",
    "    val body = resp.body?.string()\n",
    "    println(\"Body:\\n${'$'}body\")\n",
    "}"
   ],
   "outputs": [
    {
     "name": "stdout",
     "output_type": "stream",
     "text": [
      "HTTP: ${resp.code} ${resp.message}\n",
      "Headers:\n",
      "${resp.headers}\n",
      "Body:\n",
      "$body\n"
     ]
    }
   ],
   "execution_count": 2
  }
 ],
 "metadata": {
  "kernelspec": {
   "display_name": "Kotlin",
   "language": "kotlin",
   "name": "kotlin"
  },
  "language_info": {
   "name": "kotlin",
   "version": "2.2.20-Beta2",
   "mimetype": "text/x-kotlin",
   "file_extension": ".kt",
   "pygments_lexer": "kotlin",
   "codemirror_mode": "text/x-kotlin",
   "nbconvert_exporter": ""
  }
 },
 "nbformat": 4,
 "nbformat_minor": 0
}
